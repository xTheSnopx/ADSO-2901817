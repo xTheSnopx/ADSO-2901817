{
 "cells": [
  {
   "cell_type": "markdown",
   "metadata": {},
   "source": [
    "# Comparativo Educativo: SQL vs NoSQL\n",
    "## Análisis Estructural de Bases de Datos con Ejemplos Prácticos\n",
    "\n",
    "Este notebook explora las diferencias fundamentales entre bases de datos SQL y NoSQL mediante ejemplos prácticos, visualizaciones y analogías didácticas."
   ]
  },
  {
   "cell_type": "markdown",
   "metadata": {},
   "source": [
    "## 1. Simulación de una base de datos SQL (estructura rígida)\n",
    "\n",
    "Vamos a simular una tabla SQL con un esquema fijo, donde cada registro debe cumplir con la misma estructura (como si cada dato fuera una carta en una baraja, todas con el mismo formato).\n",
    "\n",
    "En este ejemplo, crearemos una tabla de usuarios con columnas fijas: `id`, `nombre`, `edad`, `email`."
   ]
  },
  {
   "cell_type": "code",
   "execution_count": null,
   "metadata": {},
   "outputs": [],
   "source": [
    "# Simulación de una tabla SQL con pandas\n",
    "import pandas as pd\n",
    "import numpy as np\n",
    "\n",
    "np.random.seed(42)\n",
    "num_rows = 200\n",
    "nombres = [f\"Usuario_{i}\" for i in range(num_rows)]\n",
    "edades = np.random.randint(18, 65, size=num_rows)\n",
    "emails = [f\"usuario{i}@ejemplo.com\" for i in range(num_rows)]\n",
    "\n",
    "sql_df = pd.DataFrame({\n",
    "    'id': range(1, num_rows+1),\n",
    "    'nombre': nombres,\n",
    "    'edad': edades,\n",
    "    'email': emails\n",
    "})\n",
    "sql_df.head()"
   ]
  },
  {
   "cell_type": "markdown",
   "metadata": {},
   "source": [
    "Visualicemos la distribución de edades en la tabla SQL. En este modelo, todos los registros tienen las mismas columnas, como si cada carta de una baraja tuviera el mismo diseño y se apilaran perfectamente unas sobre otras."
   ]
  },
  {
   "cell_type": "code",
   "execution_count": null,
   "metadata": {},
   "outputs": [],
   "source": [
    "# Visualización de la distribución de edades\n",
    "import matplotlib.pyplot as plt\n",
    "import seaborn as sns\n",
    "\n",
    "plt.figure(figsize=(8,4))\n",
    "sns.histplot(sql_df['edad'], bins=15, kde=True, color='skyblue')\n",
    "plt.title('Distribución de edades en la tabla SQL')\n",
    "plt.xlabel('Edad')\n",
    "plt.ylabel('Cantidad de usuarios')\n",
    "plt.show()"
   ]
  },
  {
   "cell_type": "markdown",
   "metadata": {},
   "source": [
    "## 2. Simulación de una base NoSQL con documentos heterogéneos (estructura libre)\n",
    "\n",
    "Ahora representamos una base NoSQL donde cada documento es diferente, como si cada hoja de un cuaderno tuviera información distinta y formatos variados. Aquí, los registros pueden tener diferentes campos y estructuras."
   ]
  },
  {
   "cell_type": "code",
   "execution_count": null,
   "metadata": {},
   "outputs": [],
   "source": [
    "# Simulación de documentos NoSQL heterogéneos\n",
    "import random\n",
    "\n",
    "documentos_nosql = []\n",
    "for i in range(num_rows):\n",
    "    doc = {\n",
    "        'id': i+1,\n",
    "        'nombre': nombres[i],\n",
    "        'edad': int(edades[i])\n",
    "    }\n",
    "    # Agregar campos aleatorios\n",
    "    if random.random() < 0.5:\n",
    "        doc['email'] = emails[i]\n",
    "    if random.random() < 0.3:\n",
    "        doc['telefono'] = f\"300{random.randint(1000000,9999999)}\"\n",
    "    if random.random() < 0.2:\n",
    "        doc['direccion'] = f\"Calle {random.randint(1,100)} #{random.randint(1,99)}-A\"\n",
    "    documentos_nosql.append(doc)\n",
    "\n",
    "# Mostrar algunos ejemplos\n",
    "documentos_nosql[:5]"
   ]
  },
  {
   "cell_type": "markdown",
   "metadata": {},
   "source": [
    "En este modelo, cada documento puede tener diferentes campos, como si cada hoja de un cuaderno tuviera información distinta. Visualizaremos cuántos documentos tienen cada campo para ver la heterogeneidad."
   ]
  },
  {
   "cell_type": "code",
   "execution_count": null,
   "metadata": {},
   "outputs": [],
   "source": [
    "# Visualización de la heterogeneidad de los documentos\n",
    "from collections import Counter\n",
    "\n",
    "campos = []\n",
    "for doc in documentos_nosql:\n",
    "    campos.extend(doc.keys())\n",
    "conteo_campos = Counter(campos)\n",
    "\n",
    "plt.figure(figsize=(6,4))\n",
    "sns.barplot(x=list(conteo_campos.keys()), y=list(conteo_campos.values()), palette='viridis')\n",
    "plt.title('Cantidad de apariciones de cada campo en documentos NoSQL')\n",
    "plt.ylabel('Cantidad de documentos')\n",
    "plt.xlabel('Campo')\n",
    "plt.show()"
   ]
  },
  {
   "cell_type": "markdown",
   "metadata": {},
   "source": [
    "## 3. Simulación de una base NoSQL homogénea (estructura uniforme, sin esquema obligatorio)\n",
    "\n",
    "En este ejemplo, todos los documentos tienen el mismo formato, pero el modelo sigue siendo flexible: podríamos agregar o quitar campos en cualquier momento. Es como tener baldes idénticos, pero donde podríamos poner diferentes tipos de objetos si quisiéramos."
   ]
  },
  {
   "cell_type": "code",
   "execution_count": null,
   "metadata": {},
   "outputs": [],
   "source": [
    "import random\n",
    "import string\n",
    "\n",
    "# Letras permitidas para la inicial\n",
    "letras_permitidas = ['a', 'b', 'c', 'd', 'e', 't', 'y', 'u', 'i', 'q']\n",
    "\n",
    "# Simulación de documentos NoSQL homogéneos con nombres aleatorios entre letras permitidas\n",
    "nosql_homogeneo = []\n",
    "for i in range(num_rows):\n",
    "    letra = random.choice(letras_permitidas)\n",
    "    nombre = f\"{letra}usuario_{i}\"\n",
    "    doc = {\n",
    "        'id': i+1,\n",
    "        'nombre': nombre,\n",
    "        'edad': int(edades[i]),\n",
    "        'email': emails[i]\n",
    "    }\n",
    "    nosql_homogeneo.append(doc)\n",
    "\n",
    "# Mostrar algunos ejemplos\n",
    "nosql_homogeneo[:5]"
   ]
  },
  {
   "cell_type": "markdown",
   "metadata": {},
   "source": [
    "Visualicemos la distribución de las letras iniciales en este modelo homogéneo, que aunque es flexible, mantiene la uniformidad en todos los documentos."
   ]
  },
  {
   "cell_type": "code",
   "execution_count": null,
   "metadata": {},
   "outputs": [],
   "source": [
    "# Visualización: cantidad de nombres que inician por cada letra del abecedario a-z\n",
    "\n",
    "plt.figure(figsize=(10,4))\n",
    "# Contar cuántos nombres inician por cada letra del abecedario a-z en nosql_homogeneo\n",
    "primeras_letras = [doc['nombre'][0] for doc in nosql_homogeneo]\n",
    "conteo_letras = Counter(primeras_letras)\n",
    "letras = list(string.ascii_lowercase)\n",
    "cantidades = [conteo_letras.get(letra, 0) for letra in letras]\n",
    "\n",
    "sns.barplot(x=letras, y=cantidades, palette='mako')\n",
    "plt.title('Cantidad de nombres que inician por cada letra (a-z)')\n",
    "plt.xlabel('Letra inicial')\n",
    "plt.ylabel('Cantidad de nombres')\n",
    "plt.show()"
   ]
  },
  {
   "cell_type": "markdown",
   "metadata": {},
   "source": [
    "## 4. Reflexión comparativa: Ventajas y desventajas de SQL vs NoSQL\n",
    "\n",
    "### SQL (Relacional):\n",
    "**Ventajas:**\n",
    "- Integridad de datos garantizada\n",
    "- Consultas complejas y relacionales eficientes\n",
    "- Estructura clara y predecible\n",
    "- Ideal para datos estructurados y relaciones\n",
    "\n",
    "**Desventajas:**\n",
    "- Menos flexible ante cambios de esquema\n",
    "- Escalabilidad horizontal limitada\n",
    "- Requiere definir estructura antes de insertar datos\n",
    "\n",
    "### NoSQL (Documental):\n",
    "**Ventajas:**\n",
    "- Flexibilidad de esquema total\n",
    "- Fácil de escalar horizontalmente\n",
    "- Ideal para datos semi-estructurados o heterogéneos\n",
    "- Desarrollo más ágil\n",
    "\n",
    "**Desventajas:**\n",
    "- Menor integridad y validación automática\n",
    "- Consultas complejas menos eficientes\n",
    "- Posible inconsistencia de datos\n",
    "- Menos herramientas de análisis maduras\n",
    "\n",
    "### Analogía final:\n",
    "- **SQL** es como una biblioteca donde todos los libros tienen el mismo tamaño y formato, lo que facilita el orden y la búsqueda.\n",
    "- **NoSQL** es como una caja de archivos donde cada documento puede ser diferente, permitiendo guardar cualquier cosa, pero requiriendo más cuidado para encontrar y validar la información.\n",
    "\n",
    "**La elección depende del caso de uso:** si se requiere estructura y relaciones complejas, SQL es ideal; si se necesita flexibilidad y escalabilidad, NoSQL es la mejor opción."
   ]
  }
 ],
 "metadata": {
  "kernelspec": {
   "display_name": "Python 3",
   "language": "python",
   "name": "python3"
  },
  "language_info": {
   "codemirror_mode": {
    "name": "ipython",
    "version": 3
   },
   "file_extension": ".py",
   "mimetype": "text/x-python",
   "name": "python",
   "nbconvert_exporter": "python",
   "pygments_lexer": "ipython3",
   "version": "3.8.5"
  }
 },
 "nbformat": 4,
 "nbformat_minor": 4
}
